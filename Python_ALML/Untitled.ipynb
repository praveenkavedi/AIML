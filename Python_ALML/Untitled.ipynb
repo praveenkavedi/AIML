{
 "cells": [
  {
   "cell_type": "code",
   "execution_count": null,
   "id": "f44acbc1-43dc-4bff-91b4-c3f6ed8891a1",
   "metadata": {},
   "outputs": [],
   "source": [
    "# a=3"
   ]
  }
 ],
 "metadata": {
  "kernelspec": {
   "display_name": "Python [conda env:anaconda3] *",
   "language": "python",
   "name": "conda-env-anaconda3-py"
  },
  "language_info": {
   "codemirror_mode": {
    "name": "ipython",
    "version": 3
   },
   "file_extension": ".py",
   "mimetype": "text/x-python",
   "name": "python",
   "nbconvert_exporter": "python",
   "pygments_lexer": "ipython3",
   "version": "3.12.7"
  }
 },
 "nbformat": 4,
 "nbformat_minor": 5
}
