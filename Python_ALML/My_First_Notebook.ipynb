{
 "cells": [
  {
   "cell_type": "code",
   "execution_count": 23,
   "id": "9b505318-b6db-4d94-baed-a25e50c67511",
   "metadata": {},
   "outputs": [
    {
     "name": "stdout",
     "output_type": "stream",
     "text": [
      "exploring jupiter notebook\n"
     ]
    }
   ],
   "source": [
    "2+5\n",
    "print(\"exploring jupiter notebook\")\n"
   ]
  },
  {
   "cell_type": "code",
   "execution_count": 25,
   "id": "45b080e3-1f2f-41fb-a847-4184ebb6e04e",
   "metadata": {},
   "outputs": [
    {
     "data": {
      "text/plain": [
       "7"
      ]
     },
     "execution_count": 25,
     "metadata": {},
     "output_type": "execute_result"
    }
   ],
   "source": [
    "3+4"
   ]
  },
  {
   "cell_type": "code",
   "execution_count": 27,
   "id": "1ee07384-a999-4aee-aa85-a7d6acaa3362",
   "metadata": {},
   "outputs": [
    {
     "data": {
      "text/plain": [
       "15.0"
      ]
     },
     "execution_count": 27,
     "metadata": {},
     "output_type": "execute_result"
    }
   ],
   "source": [
    "90/6"
   ]
  },
  {
   "cell_type": "code",
   "execution_count": null,
   "id": "20718fe5-23d4-4cb2-a0cb-0fc997a5918a",
   "metadata": {},
   "outputs": [],
   "source": [
    "1+2"
   ]
  },
  {
   "cell_type": "markdown",
   "id": "8de48407-a7b0-45a9-af4e-99d1da1ca1ac",
   "metadata": {},
   "source": [
    "# Introduction to Python\n",
    "\n",
    "## Testing another subheading"
   ]
  },
  {
   "cell_type": "code",
   "execution_count": null,
   "id": "78364269-c6fe-4a96-a409-17c76725cd2c",
   "metadata": {},
   "outputs": [],
   "source": []
  },
  {
   "cell_type": "code",
   "execution_count": null,
   "id": "1a1de799-12c4-4207-8bbe-47e244b4807c",
   "metadata": {},
   "outputs": [],
   "source": []
  }
 ],
 "metadata": {
  "kernelspec": {
   "display_name": "Python [conda env:anaconda3] *",
   "language": "python",
   "name": "conda-env-anaconda3-py"
  },
  "language_info": {
   "codemirror_mode": {
    "name": "ipython",
    "version": 3
   },
   "file_extension": ".py",
   "mimetype": "text/x-python",
   "name": "python",
   "nbconvert_exporter": "python",
   "pygments_lexer": "ipython3",
   "version": "3.12.7"
  }
 },
 "nbformat": 4,
 "nbformat_minor": 5
}
