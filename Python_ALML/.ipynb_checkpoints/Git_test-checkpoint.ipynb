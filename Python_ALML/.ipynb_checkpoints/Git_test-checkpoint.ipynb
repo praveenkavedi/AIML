{
 "cells": [
  {
   "cell_type": "markdown",
   "id": "f085889c-ce34-4db1-b770-6a641998d74f",
   "metadata": {},
   "source": [
    "This file is to test Git repo\n"
   ]
  }
 ],
 "metadata": {
  "kernelspec": {
   "display_name": "Python [conda env:anaconda3] *",
   "language": "python",
   "name": "conda-env-anaconda3-py"
  },
  "language_info": {
   "codemirror_mode": {
    "name": "ipython",
    "version": 3
   },
   "file_extension": ".py",
   "mimetype": "text/x-python",
   "name": "python",
   "nbconvert_exporter": "python",
   "pygments_lexer": "ipython3",
   "version": "3.12.7"
  }
 },
 "nbformat": 4,
 "nbformat_minor": 5
}
