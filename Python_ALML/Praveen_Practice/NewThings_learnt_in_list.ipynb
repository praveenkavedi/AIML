{
 "cells": [
  {
   "cell_type": "code",
   "execution_count": 2,
   "id": "6ec79a76-1e2e-4d1f-8257-9fc455a864f6",
   "metadata": {},
   "outputs": [
    {
     "name": "stdout",
     "output_type": "stream",
     "text": [
      "[5, 5, 5, 5]\n"
     ]
    }
   ],
   "source": [
    "# repeated list[].  it means creating a list with same values quickly\n",
    "repeated_list = [5]*4\n",
    "print(repeated_list)"
   ]
  },
  {
   "cell_type": "code",
   "execution_count": 12,
   "id": "508fb388-fc65-4373-b64c-3f9736bad895",
   "metadata": {},
   "outputs": [
    {
     "name": "stdout",
     "output_type": "stream",
     "text": [
      "['Apple', 1, 2, 3, 4.5, [10, 11, 'List0fList]']]\n",
      "['Apple', 1, 2, 3, 4.5, [10, 11, 'List0fList]']]\n",
      "['Apple', 1, 2, 3, 4.5]\n",
      "This is original list ['Apple', 1, 2, 3, 4.5]\n",
      "[1, 2, 3, 4, 'This will be removed']\n",
      "[1, 2, 3, 4]\n",
      "[1, 2, 3, 4, 'This will be removed']\n"
     ]
    }
   ],
   "source": [
    "#copying list [] is little tricky \n",
    "original_list = ['Apple',1,2,3,4.5,[10,11,'List0fList']']]\n",
    "print(original_list)\n",
    "# Now let's assign this list to another variable\n",
    "a = original_list\n",
    "print(a) #will be same as original_list\n",
    "#and now change the list and see what happens to the original list\n",
    "a.pop(5) #removing the 6th element in the list\n",
    "print(a)\n",
    "print(\"This is original list\", original_list)  #if you watch the original_list is also modified.\n",
    "\n",
    "#To overcome this we need to use copy() method, lets do the same thing.\n",
    "original_list = [1,2,3,4,'This will be removed']\n",
    "a = original_list.copy()\n",
    "print(a)\n",
    "a.pop(4)\n",
    "print(a)\n",
    "print(original_list) #if you see the original list is not changed.\n",
    "\n",
    "\n"
   ]
  },
  {
   "cell_type": "code",
   "execution_count": 18,
   "id": "13bfc62f-2c41-4bfc-b698-6586392848eb",
   "metadata": {},
   "outputs": [
    {
     "name": "stdout",
     "output_type": "stream",
     "text": [
      "(1, 2, 3, 'text')\n"
     ]
    },
    {
     "ename": "TypeError",
     "evalue": "'tuple' object does not support item assignment",
     "output_type": "error",
     "traceback": [
      "\u001b[0;31m---------------------------------------------------------------------------\u001b[0m",
      "\u001b[0;31mTypeError\u001b[0m                                 Traceback (most recent call last)",
      "Cell \u001b[0;32mIn[18], line 4\u001b[0m\n\u001b[1;32m      2\u001b[0m t \u001b[38;5;241m=\u001b[39m (\u001b[38;5;241m1\u001b[39m,\u001b[38;5;241m2\u001b[39m,\u001b[38;5;241m3\u001b[39m,\u001b[38;5;124m'\u001b[39m\u001b[38;5;124mtext\u001b[39m\u001b[38;5;124m'\u001b[39m)\n\u001b[1;32m      3\u001b[0m \u001b[38;5;28mprint\u001b[39m(t)\n\u001b[0;32m----> 4\u001b[0m t[\u001b[38;5;241m0\u001b[39m] \u001b[38;5;241m=\u001b[39m \u001b[38;5;241m5\u001b[39m\n\u001b[1;32m      5\u001b[0m \u001b[38;5;28mprint\u001b[39m(t)\n",
      "\u001b[0;31mTypeError\u001b[0m: 'tuple' object does not support item assignment"
     ]
    }
   ],
   "source": [
    "#Tuple() is ordered, not changeable, and neither adds nor deletes items.\n",
    "t = (1,2,3,'text')\n",
    "print(t)\n",
    "t[0] = 5\n",
    "print(t) # You will get an error. To overcome this, we need to change the tuple to a list, make changes, and then change the list back to tuple"
   ]
  },
  {
   "cell_type": "code",
   "execution_count": 48,
   "id": "500a9d75-b06f-4fea-b9df-988d6c7d8aad",
   "metadata": {},
   "outputs": [
    {
     "name": "stdout",
     "output_type": "stream",
     "text": [
      "{1, 2, 3}\n",
      "{'Hello', 11, -2, -1}\n",
      "True\n"
     ]
    }
   ],
   "source": [
    "# set {} is unordered, allows changes, but does not allow duplicates\n",
    "sample_set = {1,2,3,2}\n",
    "print(sample_set)\n",
    "another_set = {11,'Hello',-2,-1}\n",
    "print(another_set)\n",
    "\n",
    "# Because it is unordered, we cannot access items using the numbers like sample_set[2]\n",
    "#print(sample_set[2]) # we will get error \n",
    "\n",
    "#But we can check whether the items are present or not.\n",
    "print(1 in sample_set) #it returns true or false.\n",
    "\n"
   ]
  },
  {
   "cell_type": "code",
   "execution_count": 70,
   "id": "2e1647d8-8da7-48db-ae1f-54a7717c5e16",
   "metadata": {},
   "outputs": [
    {
     "name": "stdout",
     "output_type": "stream",
     "text": [
      "{'name': 'praveen', 'age': 24, 'class': 10, 'subject': 'Science'}\n",
      "{'name': 'praveen', 'age': 24, 'class': 10, 'subject': 'Science'}\n",
      "{'name': 'praveen', 'age': 34, 'class': 10, 'subject': 'Science'}\n"
     ]
    }
   ],
   "source": [
    "#dictionary {key:value} its just like list, instead of number we use for index we use string(key)\n",
    "sample_dic = {\n",
    "    \"name\": \"praveen\",\n",
    "    \"age\": 24,\n",
    "    \"class\": 10,\n",
    "    \"subject\": \"Science\"\n",
    "}\n",
    "\n",
    "print(sample_dic)\n",
    "print(sample_dic)\n",
    "\n",
    "sample_dic[\"age\"] = 34\n",
    "print(sample_dic)"
   ]
  },
  {
   "cell_type": "code",
   "execution_count": null,
   "id": "804414d1-545c-410e-8a55-6e7400b9496a",
   "metadata": {},
   "outputs": [],
   "source": []
  }
 ],
 "metadata": {
  "kernelspec": {
   "display_name": "Python [conda env:anaconda3] *",
   "language": "python",
   "name": "conda-env-anaconda3-py"
  },
  "language_info": {
   "codemirror_mode": {
    "name": "ipython",
    "version": 3
   },
   "file_extension": ".py",
   "mimetype": "text/x-python",
   "name": "python",
   "nbconvert_exporter": "python",
   "pygments_lexer": "ipython3",
   "version": "3.12.7"
  }
 },
 "nbformat": 4,
 "nbformat_minor": 5
}
