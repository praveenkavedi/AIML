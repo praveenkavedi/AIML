{
 "cells": [
  {
   "cell_type": "markdown",
   "id": "5fbd0c48-7080-4c62-98a3-6dcb1b878b6f",
   "metadata": {},
   "source": [
    "#**LOOPs**"
   ]
  },
  {
   "cell_type": "code",
   "execution_count": 4,
   "id": "f1d440a0-e596-4ad6-9e45-5800cd29cf47",
   "metadata": {},
   "outputs": [
    {
     "name": "stdout",
     "output_type": "stream",
     "text": [
      "0\n",
      "1\n",
      "2\n",
      "3\n",
      "4\n",
      "5\n",
      "6\n",
      "7\n",
      "8\n",
      "9\n",
      "10\n",
      "The loops run 11 times\n"
     ]
    }
   ],
   "source": [
    "# **for loops**\n",
    "\n",
    "counter = 0\n",
    "simple_list = [0,1,2,3,4,5,6,7,8,9,10]\n",
    "for i in simple_list:\n",
    "    print(i)\n",
    "    counter = counter + 1\n",
    "print(\"The loops run\", counter, \"times\")"
   ]
  },
  {
   "cell_type": "code",
   "execution_count": 18,
   "id": "774c352a-2a3b-4568-8544-baa5231fb1db",
   "metadata": {},
   "outputs": [
    {
     "name": "stdout",
     "output_type": "stream",
     "text": [
      "This is Simple loop for i value [1, 2, 3]\n",
      "This is Simple loop for j value [4, 5, 6]\n",
      "This is J loop, Multiple i value 1 with j value 4 is 4\n",
      "This is J loop, Multiple i value 1 with j value 5 is 5\n",
      "This is J loop, Multiple i value 1 with j value 6 is 6\n",
      "I'm out now J loop, now taking new i value\n",
      "This is J loop, Multiple i value 2 with j value 4 is 8\n",
      "This is J loop, Multiple i value 2 with j value 5 is 10\n",
      "This is J loop, Multiple i value 2 with j value 6 is 12\n",
      "I'm out now J loop, now taking new i value\n",
      "This is J loop, Multiple i value 3 with j value 4 is 12\n",
      "This is J loop, Multiple i value 3 with j value 5 is 15\n",
      "This is J loop, Multiple i value 3 with j value 6 is 18\n",
      "I'm out now J loop, now taking new i value\n"
     ]
    }
   ],
   "source": [
    "# **nested for loop**\n",
    "print(\"This is Simple loop for i value\", simple_list[1:4])\n",
    "print(\"This is Simple loop for j value\", simple_list[4:7])\n",
    "for i in simple_list[1:4]:\n",
    "    for j in simple_list[4:7]:\n",
    "        print(\"This is J loop, Multiple i value\", i, \"with j value\", j, \"is\", i*j)\n",
    "    print(\"I'm out now J loop, now taking new i value\")\n",
    "\n",
    "\n",
    "    \n",
    "        "
   ]
  },
  {
   "cell_type": "code",
   "execution_count": 32,
   "id": "02727f48-4164-46ec-a8ae-06f1e5097ded",
   "metadata": {},
   "outputs": [
    {
     "name": "stdout",
     "output_type": "stream",
     "text": [
      "1\n",
      "2\n",
      "3\n",
      "4\n",
      "5\n",
      "6\n",
      "7\n",
      "8\n",
      "9\n",
      "10\n"
     ]
    }
   ],
   "source": [
    "# Let's say we need to create a list with 100 numbers, then it takeTo create a list of 50 numbers, it takes 50 numbers of space, which is more space than needed. To avoid this, we can use the range function below: 50 spaces of numbers. That's more space.  To avoid that, we can use the range as below,\n",
    "\n",
    "for i in range(1,11):\n",
    "    print( i )"
   ]
  },
  {
   "cell_type": "code",
   "execution_count": 34,
   "id": "eeb57225-2b29-4ede-af3b-31fd0f5b05f4",
   "metadata": {},
   "outputs": [
    {
     "name": "stdout",
     "output_type": "stream",
     "text": [
      "1\n",
      "3\n",
      "5\n",
      "7\n",
      "9\n"
     ]
    }
   ],
   "source": [
    "# We can also say to increment the print index with x number, like range(1,51,5)\n",
    "\n",
    "for i in range(1,11,2):\n",
    "    print( i )"
   ]
  },
  {
   "cell_type": "code",
   "execution_count": 38,
   "id": "6af439d3-0e99-47b5-bf41-d79f8ad93eb1",
   "metadata": {},
   "outputs": [
    {
     "name": "stdout",
     "output_type": "stream",
     "text": [
      "5\n",
      "6\n",
      "7\n",
      "8\n",
      "9\n",
      "I'm out of the While loop\n"
     ]
    }
   ],
   "source": [
    "# **While Loop**, it always check the condition, it runs the loop until the **condition** is satisfied.\n",
    "\n",
    "i = 5\n",
    "while i <10 :\n",
    "    print(i)\n",
    "    i = i+1\n",
    "print(\"I'm out of the While loop\")"
   ]
  },
  {
   "cell_type": "code",
   "execution_count": null,
   "id": "0a61c63d-f161-41b5-af5c-42b4fd9ea4ea",
   "metadata": {},
   "outputs": [],
   "source": []
  }
 ],
 "metadata": {
  "kernelspec": {
   "display_name": "Python [conda env:anaconda3] *",
   "language": "python",
   "name": "conda-env-anaconda3-py"
  },
  "language_info": {
   "codemirror_mode": {
    "name": "ipython",
    "version": 3
   },
   "file_extension": ".py",
   "mimetype": "text/x-python",
   "name": "python",
   "nbconvert_exporter": "python",
   "pygments_lexer": "ipython3",
   "version": "3.12.7"
  }
 },
 "nbformat": 4,
 "nbformat_minor": 5
}
