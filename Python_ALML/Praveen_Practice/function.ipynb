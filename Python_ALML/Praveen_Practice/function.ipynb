{
 "cells": [
  {
   "cell_type": "code",
   "execution_count": 22,
   "id": "d8b868ce-20c3-4ee5-b56d-98d244203f30",
   "metadata": {},
   "outputs": [
    {
     "name": "stdout",
     "output_type": "stream",
     "text": [
      "11\n",
      " This is documentation, here we can explain what this function will do and what inputs we need to pass\n",
      "    example in this function we need to pass the x value interger \n"
     ]
    }
   ],
   "source": [
    "def x2p7(x):\n",
    "    \"\"\" This is documentation, here we can explain what this function will do and what inputs we need to pass\n",
    "    example in this function we need to pass the x value interger \"\"\"\n",
    "    global y\n",
    "    y= x*x\n",
    "    z= y+7\n",
    "    return z\n",
    "\n",
    "print(x2p7(2))\n",
    "print(x2p7.__doc__)"
   ]
  },
  {
   "cell_type": "code",
   "execution_count": 18,
   "id": "1f2e5ee2-7bcd-4b90-99d2-83c2b79c28c7",
   "metadata": {},
   "outputs": [
    {
     "data": {
      "text/plain": [
       "<function __main__.x2p7(x)>"
      ]
     },
     "execution_count": 18,
     "metadata": {},
     "output_type": "execute_result"
    }
   ],
   "source": []
  },
  {
   "cell_type": "code",
   "execution_count": 30,
   "id": "4120bc09-bfff-4e64-a558-e2ed73521446",
   "metadata": {},
   "outputs": [
    {
     "name": "stdout",
     "output_type": "stream",
     "text": [
      "11\n"
     ]
    }
   ],
   "source": [
    "# The above is the user-defined function. We can make it simpler by using a lambda function\n",
    "\n",
    "x2p7 = lambda x: x*x+7\n",
    "\n",
    "print(x2p7(2))"
   ]
  }
 ],
 "metadata": {
  "kernelspec": {
   "display_name": "Python [conda env:anaconda3] *",
   "language": "python",
   "name": "conda-env-anaconda3-py"
  },
  "language_info": {
   "codemirror_mode": {
    "name": "ipython",
    "version": 3
   },
   "file_extension": ".py",
   "mimetype": "text/x-python",
   "name": "python",
   "nbconvert_exporter": "python",
   "pygments_lexer": "ipython3",
   "version": "3.12.7"
  }
 },
 "nbformat": 4,
 "nbformat_minor": 5
}
