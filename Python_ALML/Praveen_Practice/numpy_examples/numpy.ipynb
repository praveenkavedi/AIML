{
 "cells": [
  {
   "cell_type": "code",
   "execution_count": 2,
   "id": "77e8909e-2f60-4012-85be-c8952cffb132",
   "metadata": {},
   "outputs": [
    {
     "data": {
      "text/plain": [
       "array([1, 2, 3])"
      ]
     },
     "execution_count": 2,
     "metadata": {},
     "output_type": "execute_result"
    }
   ],
   "source": [
    "import numpy as np\n",
    "n1 = np.array([1,2,3])\n",
    "n1"
   ]
  },
  {
   "cell_type": "code",
   "execution_count": 8,
   "id": "74dfb232-1bb8-42d7-99e1-260d8fbc6abc",
   "metadata": {},
   "outputs": [
    {
     "data": {
      "text/plain": [
       "array([[0., 0.]])"
      ]
     },
     "execution_count": 8,
     "metadata": {},
     "output_type": "execute_result"
    }
   ],
   "source": [
    "# Initialize the numpy array with all zeros\n",
    "import numpy as np\n",
    "n2 = np.zeros((1,2))\n",
    "n2"
   ]
  },
  {
   "cell_type": "code",
   "execution_count": 10,
   "id": "1ca4e51f-b3a5-42d2-a0a8-244907cfdba5",
   "metadata": {},
   "outputs": [
    {
     "data": {
      "text/plain": [
       "array([[7, 7, 7, 7, 7],\n",
       "       [7, 7, 7, 7, 7],\n",
       "       [7, 7, 7, 7, 7],\n",
       "       [7, 7, 7, 7, 7],\n",
       "       [7, 7, 7, 7, 7]])"
      ]
     },
     "execution_count": 10,
     "metadata": {},
     "output_type": "execute_result"
    }
   ],
   "source": [
    "# Initialize the numpy array with all the  same numbers\n",
    "import numpy as np\n",
    "n3= np.full((5,5),7)\n",
    "n3"
   ]
  },
  {
   "cell_type": "code",
   "execution_count": 20,
   "id": "51bd90e4-f768-4b2b-a840-6b1f0c1b9d18",
   "metadata": {},
   "outputs": [
    {
     "name": "stdout",
     "output_type": "stream",
     "text": [
      "[10 11 12 13 14]\n",
      "[10 20 30 40 50]\n"
     ]
    }
   ],
   "source": [
    "#Example of the arange method\n",
    "import numpy as np\n",
    "n1 = np.arange(10,15)\n",
    "print(n1)\n",
    "n2 = np.arange(10,51,10)\n",
    "print(n2)"
   ]
  },
  {
   "cell_type": "code",
   "execution_count": 98,
   "id": "260ef792-357d-4930-8616-82a829d5b3db",
   "metadata": {},
   "outputs": [
    {
     "name": "stdout",
     "output_type": "stream",
     "text": [
      "[[1 2 3]\n",
      " [4 5 6]]\n"
     ]
    }
   ],
   "source": [
    "#To change the shape of an array use SHAPE method\n",
    "n = np.array([[1,2,3],\n",
    "              [4,5,6]])\n",
    "n.shape = (2,3)\n",
    "print(n)"
   ]
  },
  {
   "cell_type": "code",
   "execution_count": 100,
   "id": "590f2fb9-13c3-4e47-a4e5-c6f87627d588",
   "metadata": {},
   "outputs": [
    {
     "name": "stdout",
     "output_type": "stream",
     "text": [
      "[605 420 402 478 941 378 181 261 494 553]\n"
     ]
    }
   ],
   "source": [
    "#use random  \n",
    "n = np.random.randint(10,1000,10)\n",
    "print(n)\n"
   ]
  }
 ],
 "metadata": {
  "kernelspec": {
   "display_name": "Python [conda env:anaconda3] *",
   "language": "python",
   "name": "conda-env-anaconda3-py"
  },
  "language_info": {
   "codemirror_mode": {
    "name": "ipython",
    "version": 3
   },
   "file_extension": ".py",
   "mimetype": "text/x-python",
   "name": "python",
   "nbconvert_exporter": "python",
   "pygments_lexer": "ipython3",
   "version": "3.12.7"
  }
 },
 "nbformat": 4,
 "nbformat_minor": 5
}
