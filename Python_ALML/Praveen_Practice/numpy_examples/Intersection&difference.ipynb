{
 "cells": [
  {
   "cell_type": "code",
   "execution_count": 6,
   "id": "b1a4372c-6b95-4375-9059-56998f1da08e",
   "metadata": {},
   "outputs": [
    {
     "name": "stdout",
     "output_type": "stream",
     "text": [
      "[40 50 60]\n",
      "[10 20 30]\n"
     ]
    }
   ],
   "source": [
    "import numpy as np\n",
    "n1 = np.array([10,20,30,40,50,60])\n",
    "n2 = np.array([40,50,60,70,80])\n",
    "duplicates =  np.intersect1d(n1,n2) #this will give the common elements in both the arrays\n",
    "print(duplicates)\n",
    "unique = np.setdiff1d(n1,n2) # this will give the unique elements in first array mentioned(first_array, second_array)\n",
    "print(unique)\n"
   ]
  }
 ],
 "metadata": {
  "kernelspec": {
   "display_name": "Python [conda env:anaconda3] *",
   "language": "python",
   "name": "conda-env-anaconda3-py"
  },
  "language_info": {
   "codemirror_mode": {
    "name": "ipython",
    "version": 3
   },
   "file_extension": ".py",
   "mimetype": "text/x-python",
   "name": "python",
   "nbconvert_exporter": "python",
   "pygments_lexer": "ipython3",
   "version": "3.12.7"
  }
 },
 "nbformat": 4,
 "nbformat_minor": 5
}
