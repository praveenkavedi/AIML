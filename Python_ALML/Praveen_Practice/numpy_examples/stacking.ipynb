{
 "cells": [
  {
   "cell_type": "code",
   "execution_count": 12,
   "id": "aed74b6c-ca7e-4654-a7fd-42d1909e0290",
   "metadata": {},
   "outputs": [
    {
     "name": "stdout",
     "output_type": "stream",
     "text": [
      "This is vertical stacking [[ 1  2  3]\n",
      " [10 20 30]]\n",
      "This is Horizontal Stacking [ 1  2  3 10 20 30]\n",
      "This is column stacking [[ 1 10]\n",
      " [ 2 20]\n",
      " [ 3 30]]\n"
     ]
    }
   ],
   "source": [
    "#vertical stacking (vstack)\n",
    "import numpy as np\n",
    "\n",
    "n1 = np.array([1,2,3])\n",
    "n2 = np.array([10,20,30])\n",
    "\n",
    "vertical_stack = np.vstack((n1,n2)) #vertical stacking\n",
    "horizontal_stack = np.hstack ((n1,n2)) #horizontal Stacking\n",
    "column_stack = np.column_stack((n1,n2)) #column stacking, first row contains the value of all first array(n1)\n",
    "\n",
    "print(\"This is vertical stacking\",vertical_stack)\n",
    "print(\"This is Horizontal Stacking\",horizontal_stack)\n",
    "print(\"This is column stacking\",column_stack) \n"
   ]
  },
  {
   "cell_type": "code",
   "execution_count": null,
   "id": "5e0845aa-da37-41ad-b026-6777edf8fe08",
   "metadata": {},
   "outputs": [],
   "source": []
  }
 ],
 "metadata": {
  "kernelspec": {
   "display_name": "Python [conda env:anaconda3] *",
   "language": "python",
   "name": "conda-env-anaconda3-py"
  },
  "language_info": {
   "codemirror_mode": {
    "name": "ipython",
    "version": 3
   },
   "file_extension": ".py",
   "mimetype": "text/x-python",
   "name": "python",
   "nbconvert_exporter": "python",
   "pygments_lexer": "ipython3",
   "version": "3.12.7"
  }
 },
 "nbformat": 4,
 "nbformat_minor": 5
}
