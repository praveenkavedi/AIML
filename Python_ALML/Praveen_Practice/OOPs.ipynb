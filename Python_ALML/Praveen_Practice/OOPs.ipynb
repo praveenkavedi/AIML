{
 "cells": [
  {
   "cell_type": "code",
   "execution_count": 29,
   "id": "2bf8a792-bc4c-424f-9816-2d71e46b32b7",
   "metadata": {},
   "outputs": [
    {
     "name": "stdout",
     "output_type": "stream",
     "text": [
      "2\n",
      "4\n"
     ]
    }
   ],
   "source": [
    "#oops \n",
    "\n",
    "class My_data_type:\n",
    "    def first_fun(self, val2):\n",
    "        self.first = 2\n",
    "        self.second = val2\n",
    "    def multiply(self):\n",
    "        return self.first*self.second\n",
    "\n",
    "me = My_data_type ()\n",
    "me.first_fun(2)\n",
    "print(me.first)\n",
    "print(me.multiply())\n",
    "\n",
    "\n",
    "        "
   ]
  },
  {
   "cell_type": "code",
   "execution_count": 11,
   "id": "1835a31f-42be-4ae4-9d79-7d8db5118474",
   "metadata": {},
   "outputs": [
    {
     "name": "stdout",
     "output_type": "stream",
     "text": [
      "10\n"
     ]
    }
   ],
   "source": [
    "me.third = 10\n",
    "print(me.third)"
   ]
  },
  {
   "cell_type": "code",
   "execution_count": 13,
   "id": "821c9fb1-73be-4a33-b6e7-e20c9e748ef5",
   "metadata": {},
   "outputs": [
    {
     "name": "stdout",
     "output_type": "stream",
     "text": [
      "20\n"
     ]
    }
   ],
   "source": [
    "print(me.first*me.third)"
   ]
  },
  {
   "cell_type": "code",
   "execution_count": 31,
   "id": "8c4406c7-78ce-4363-b166-8a4ddf44ef5b",
   "metadata": {},
   "outputs": [
    {
     "name": "stdout",
     "output_type": "stream",
     "text": [
      "2\n",
      "5\n"
     ]
    }
   ],
   "source": [
    "you = My_data_type()\n",
    "you.first_fun(3)\n",
    "you.thrid = 5\n",
    "print(you.first)\n",
    "print(you.thrid)"
   ]
  },
  {
   "cell_type": "code",
   "execution_count": 49,
   "id": "721eff4d-cd3a-4042-9651-2422d1f87438",
   "metadata": {},
   "outputs": [
    {
     "name": "stdout",
     "output_type": "stream",
     "text": [
      "Name of the person:  Praveen\n",
      "Age of the person: 34\n",
      "Height of the person 5.4\n",
      "Weight of the person 63\n",
      "Is the person healthier? False\n",
      "None\n",
      "\n",
      "Name of the person:  Mani\n",
      "Age of the person: 34\n",
      "Height of the person 5.7\n",
      "Weight of the person 70\n",
      "Is the person healthier? True\n",
      "None\n"
     ]
    }
   ],
   "source": [
    "#lets do a bit complicated example\n",
    "\n",
    "class person:\n",
    "    def __init__(self, name, age, height, weight, sex):p\n",
    "        self.name = name\n",
    "        self.age = age\n",
    "        self.height = height\n",
    "        self.weight = weight\n",
    "        self.sex = sex\n",
    "        self.check = self.check_health()\n",
    "    \n",
    "    def check_health(self):\n",
    "        if((self.height + self.weight)>=70):\n",
    "            return True\n",
    "        else:\n",
    "            return False\n",
    "    def display_character(self):\n",
    "        print(\"Name of the person: \", self.name)\n",
    "        print(\"Age of the person:\", self.age)\n",
    "        print(\"Height of the person\", self.height)\n",
    "        print(\"Weight of the person\", self.weight)\n",
    "        print(\"Is the person healthier?\", self.check)\n",
    "\n",
    "praveen = person(\"Praveen\",34,5.4,63,\"M\")\n",
    "mani = person(\"Mani\",34,5.7,70,\"M\")\n",
    "\n",
    "print(praveen.display_character())\n",
    "print('')\n",
    "print(mani.display_character())\n",
    "    "
   ]
  },
  {
   "cell_type": "code",
   "execution_count": 60,
   "id": "c07ea61c-13a7-4953-9a21-887e96149a75",
   "metadata": {},
   "outputs": [
    {
     "name": "stdin",
     "output_type": "stream",
     "text": [
      " 5\n",
      " 10\n"
     ]
    },
    {
     "name": "stdout",
     "output_type": "stream",
     "text": [
      "15\n",
      "-5\n"
     ]
    }
   ],
   "source": [
    "#another good example from the quiz to clear get how class works, \n",
    "input1 = int(input())\n",
    "input2 = int(input())\n",
    "\n",
    "class Calculator:\n",
    "    def add(self, a, b):\n",
    "        # Write your code below\n",
    "        self.a = a\n",
    "        self.b = b\n",
    "        self.add = self.a + self.b\n",
    "        return self.add\n",
    "\n",
    "    def subtract(self, a, b):\n",
    "        # Write your code below\n",
    "        self.a = a\n",
    "        self.b = b\n",
    "        self.sub = self.a - self.b\n",
    "        return self.sub\n",
    "\n",
    "# Create an object of the class\n",
    "calculator = Calculator()\n",
    "r1 = calculator.add(input1, input2)\n",
    "r2 = calculator.subtract(input1, input2)\n",
    "print(r1)\n",
    "print(r2)"
   ]
  },
  {
   "cell_type": "code",
   "execution_count": null,
   "id": "4c9f557f-ba4b-49da-a615-8ed13d5c49f6",
   "metadata": {},
   "outputs": [],
   "source": []
  }
 ],
 "metadata": {
  "kernelspec": {
   "display_name": "Python [conda env:anaconda3] *",
   "language": "python",
   "name": "conda-env-anaconda3-py"
  },
  "language_info": {
   "codemirror_mode": {
    "name": "ipython",
    "version": 3
   },
   "file_extension": ".py",
   "mimetype": "text/x-python",
   "name": "python",
   "nbconvert_exporter": "python",
   "pygments_lexer": "ipython3",
   "version": "3.12.7"
  }
 },
 "nbformat": 4,
 "nbformat_minor": 5
}
