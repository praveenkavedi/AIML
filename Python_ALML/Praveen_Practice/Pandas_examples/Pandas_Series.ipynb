{
 "cells": [
  {
   "cell_type": "code",
   "execution_count": 6,
   "id": "f797952a-8fa7-49e8-bfa1-be7f5de5b2dc",
   "metadata": {},
   "outputs": [
    {
     "data": {
      "text/plain": [
       "0    10\n",
       "1    20\n",
       "2    30\n",
       "3    40\n",
       "4    50\n",
       "dtype: int64"
      ]
     },
     "execution_count": 6,
     "metadata": {},
     "output_type": "execute_result"
    }
   ],
   "source": [
    "import pandas as pd\n",
    "p1 = pd.Series([10,20,30,40,50])\n",
    "p1"
   ]
  },
  {
   "cell_type": "code",
   "execution_count": 17,
   "id": "5f758e5b-3331-4499-85db-030f81a1f59c",
   "metadata": {},
   "outputs": [
    {
     "data": {
      "text/plain": [
       "a    10\n",
       "b    20\n",
       "c    30\n",
       "d    40\n",
       "e    50\n",
       "dtype: int64"
      ]
     },
     "execution_count": 17,
     "metadata": {},
     "output_type": "execute_result"
    }
   ],
   "source": [
    "p1 = pd.Series ([10,20,30,40,50], index=['a','b','c','d','e'])\n",
    "p1 "
   ]
  },
  {
   "cell_type": "code",
   "execution_count": 19,
   "id": "fc8f6a29-1abe-4ced-a271-a6bfc083d997",
   "metadata": {},
   "outputs": [
    {
     "data": {
      "text/plain": [
       "a    100\n",
       "b    200\n",
       "c    300\n",
       "dtype: int64"
      ]
     },
     "execution_count": 19,
     "metadata": {},
     "output_type": "execute_result"
    }
   ],
   "source": [
    "p2 = pd.Series({'a':100, 'b':200, 'c':300})\n",
    "p2"
   ]
  },
  {
   "cell_type": "code",
   "execution_count": 21,
   "id": "3f17f3bc-c908-4dbb-8d20-8019049ff2d2",
   "metadata": {},
   "outputs": [
    {
     "data": {
      "text/plain": [
       "b    200\n",
       "c    300\n",
       "a    100\n",
       "dtype: int64"
      ]
     },
     "execution_count": 21,
     "metadata": {},
     "output_type": "execute_result"
    }
   ],
   "source": [
    "#we can rearrage the index values \n",
    "p2 = pd.Series({'a':100, 'b':200, 'c':300}, index=['b','c','a'])\n",
    "p2\n"
   ]
  },
  {
   "cell_type": "code",
   "execution_count": 23,
   "id": "fe795aa2-24bb-46c5-8800-c8624e3fbc20",
   "metadata": {},
   "outputs": [
    {
     "data": {
      "text/plain": [
       "b    200\n",
       "c    300\n",
       "a    100\n",
       "dtype: int64"
      ]
     },
     "execution_count": 23,
     "metadata": {},
     "output_type": "execute_result"
    }
   ],
   "source": [
    "p2 + 10\n",
    "p2"
   ]
  },
  {
   "cell_type": "code",
   "execution_count": 25,
   "id": "17c56dd9-55b9-4421-9968-9e7f0559ab38",
   "metadata": {},
   "outputs": [
    {
     "data": {
      "text/plain": [
       "b    210\n",
       "c    310\n",
       "a    110\n",
       "dtype: int64"
      ]
     },
     "execution_count": 25,
     "metadata": {},
     "output_type": "execute_result"
    }
   ],
   "source": [
    "p2+10"
   ]
  },
  {
   "cell_type": "code",
   "execution_count": 35,
   "id": "38629494-f6c9-41a8-bf46-a54b04a4bce5",
   "metadata": {},
   "outputs": [
    {
     "data": {
      "text/plain": [
       "0     100\n",
       "1     200\n",
       "2     300\n",
       "3     400\n",
       "4     500\n",
       "5     600\n",
       "6     700\n",
       "7     800\n",
       "8     900\n",
       "9    1000\n",
       "dtype: int64"
      ]
     },
     "execution_count": 35,
     "metadata": {},
     "output_type": "execute_result"
    }
   ],
   "source": [
    "p4 = pd.Series([100,200,300,400,500,600,700,800,900,1000])\n",
    "p4\n"
   ]
  },
  {
   "cell_type": "code",
   "execution_count": 37,
   "id": "5b9f6dba-e579-48cf-9edb-7a83eaa82309",
   "metadata": {},
   "outputs": [
    {
     "data": {
      "text/plain": [
       "3     400\n",
       "4     500\n",
       "5     600\n",
       "6     700\n",
       "7     800\n",
       "8     900\n",
       "9    1000\n",
       "dtype: int64"
      ]
     },
     "execution_count": 37,
     "metadata": {},
     "output_type": "execute_result"
    }
   ],
   "source": [
    "p4[3:]"
   ]
  },
  {
   "cell_type": "code",
   "execution_count": 39,
   "id": "ff98fc06-ead6-4d48-84bc-bf25903601e7",
   "metadata": {},
   "outputs": [
    {
     "data": {
      "text/plain": [
       "1    200\n",
       "2    300\n",
       "3    400\n",
       "4    500\n",
       "dtype: int64"
      ]
     },
     "execution_count": 39,
     "metadata": {},
     "output_type": "execute_result"
    }
   ],
   "source": [
    "p4[1:5]"
   ]
  },
  {
   "cell_type": "code",
   "execution_count": 50,
   "id": "e5781c4c-3582-441c-a393-50dc397d56a6",
   "metadata": {},
   "outputs": [
    {
     "data": {
      "text/plain": [
       "Series([], dtype: int64)"
      ]
     },
     "execution_count": 50,
     "metadata": {},
     "output_type": "execute_result"
    }
   ],
   "source": []
  },
  {
   "cell_type": "code",
   "execution_count": null,
   "id": "0235d1af-6074-4a8a-bd4e-436966bacb40",
   "metadata": {},
   "outputs": [],
   "source": []
  },
  {
   "cell_type": "code",
   "execution_count": null,
   "id": "1d65e4e9-de61-42c8-8cf4-7fd71d323396",
   "metadata": {},
   "outputs": [],
   "source": []
  },
  {
   "cell_type": "code",
   "execution_count": null,
   "id": "e6676881-8b7d-4b69-bd37-6a2357d889a8",
   "metadata": {},
   "outputs": [],
   "source": []
  },
  {
   "cell_type": "code",
   "execution_count": null,
   "id": "947f1c20-ad9b-4841-9d81-580f430bb66c",
   "metadata": {},
   "outputs": [],
   "source": []
  }
 ],
 "metadata": {
  "kernelspec": {
   "display_name": "Python [conda env:anaconda3] *",
   "language": "python",
   "name": "conda-env-anaconda3-py"
  },
  "language_info": {
   "codemirror_mode": {
    "name": "ipython",
    "version": 3
   },
   "file_extension": ".py",
   "mimetype": "text/x-python",
   "name": "python",
   "nbconvert_exporter": "python",
   "pygments_lexer": "ipython3",
   "version": "3.12.7"
  }
 },
 "nbformat": 4,
 "nbformat_minor": 5
}
