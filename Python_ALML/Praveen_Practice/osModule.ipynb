{
 "cells": [
  {
   "cell_type": "code",
   "execution_count": null,
   "id": "f1d03cde-1d0c-4908-9ae0-5aaa324e38be",
   "metadata": {},
   "outputs": [],
   "source": [
    "OS Module"
   ]
  },
  {
   "cell_type": "code",
   "execution_count": 2,
   "id": "6541d457-d86e-4acc-a651-d8cb086b1d45",
   "metadata": {},
   "outputs": [
    {
     "name": "stdout",
     "output_type": "stream",
     "text": [
      "posix\n"
     ]
    }
   ],
   "source": [
    "import os\n",
    "print(os.name)"
   ]
  },
  {
   "cell_type": "code",
   "execution_count": 4,
   "id": "6f445633-0367-4b22-a6c5-4def2a0b079c",
   "metadata": {
    "scrolled": true
   },
   "outputs": [
    {
     "data": {
      "text/plain": [
       "['My_First_Notebook.ipynb',\n",
       " 'function.ipynb',\n",
       " 'Untitled1.ipynb',\n",
       " 'Untitled.ipynb',\n",
       " 'Loops.ipynb',\n",
       " 'OOPs.ipynb',\n",
       " 'db',\n",
       " '.ipynb_checkpoints',\n",
       " 'NewThings_learnt_in_list.ipynb']"
      ]
     },
     "execution_count": 4,
     "metadata": {},
     "output_type": "execute_result"
    }
   ],
   "source": [
    "os.listdir('.')"
   ]
  },
  {
   "cell_type": "code",
   "execution_count": 36,
   "id": "68cf24c1-0558-44a1-82df-4a3f74da4b3e",
   "metadata": {},
   "outputs": [
    {
     "data": {
      "text/plain": [
       "5"
      ]
     },
     "execution_count": 36,
     "metadata": {},
     "output_type": "execute_result"
    }
   ],
   "source": [
    "myfolder = open('/Users/praveen/anaconda_projects/testosmodule.txt', 'w')\n",
    "myfolder.write('hello\\n')\n",
    "myfolder.write('World')"
   ]
  }
 ],
 "metadata": {
  "kernelspec": {
   "display_name": "Python [conda env:anaconda3] *",
   "language": "python",
   "name": "conda-env-anaconda3-py"
  },
  "language_info": {
   "codemirror_mode": {
    "name": "ipython",
    "version": 3
   },
   "file_extension": ".py",
   "mimetype": "text/x-python",
   "name": "python",
   "nbconvert_exporter": "python",
   "pygments_lexer": "ipython3",
   "version": "3.12.7"
  }
 },
 "nbformat": 4,
 "nbformat_minor": 5
}
